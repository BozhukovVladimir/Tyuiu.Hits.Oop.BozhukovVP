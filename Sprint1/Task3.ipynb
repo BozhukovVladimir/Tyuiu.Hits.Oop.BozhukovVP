{
 "cells": [
  {
   "cell_type": "markdown",
   "metadata": {},
   "source": [
    "<h1 style=\"color:DodgerBlue\">Индивидальный проект</h1>"
   ]
  },
  {
   "cell_type": "markdown",
   "metadata": {},
   "source": [
    "<h2 style=\"color:DodgerBlue\">Название проекта:</h2>\n",
    "\n",
    "----\n",
    "\n",
    "### Вариант задания \n"
   ]
  },
  {
   "cell_type": "markdown",
   "metadata": {},
   "source": [
    "<h2 style=\"color:DodgerBlue\">Описание проекта:</h2>\n",
    "\n",
    "----\n",
    "\n",
    "[ваш текст]\n",
    "\n",
    "#### Дополнительное задание\n",
    "Добавьте к сущестующим классам конструктора классов с использованием гетторов и сетторов и реализуйте взаимодействие объектов между собой"
   ]
  },
  {
   "cell_type": "markdown",
   "metadata": {},
   "source": [
    "<h2 style=\"color:DodgerBlue\">Реализация:</h2>\n",
    "\n",
    "----"
   ]
  },
  {
   "cell_type": "code",
   "execution_count": null,
   "metadata": {
    "dotnet_interactive": {
     "language": "csharp"
    },
    "polyglot_notebook": {
     "kernelName": "csharp"
    }
   },
   "outputs": [],
   "source": [
    "using System;\n",
    "using System.Collections.Generic;\n",
    "\n",
    "public class Student\n",
    "{\n",
    "    public string Name { get; set; }\n",
    "    public int Age { get; set; }\n",
    "    public decimal Curs { get; set; }\n",
    "\n",
    "    public Student(string Name, int Age, decimal Curs)\n",
    "    {\n",
    "        this.Name = Name;\n",
    "        this.Age = Age;\n",
    "        this.Curs = Curs;\n",
    "    }\n",
    "    \n",
    "    public virtual void GetInfo()\n",
    "    {\n",
    "        Console.WriteLine($\"{Name}, {Age}, {Curs}.\");\n",
    "    }\n",
    "\n",
    "    public virtual void Study()\n",
    "    {\n",
    "        Console.WriteLine(\"Студент учится\");\n",
    "    }\n",
    "\n",
    "    public virtual void TakeExam()\n",
    "    {\n",
    "        Console.WriteLine(\"Студент успешно сдал экзамен\");\n",
    "    }\n",
    "}\n",
    "public class BachelorStudent: Student\n",
    "{\n",
    "    public string Specialty {get; set;}\n",
    "    \n",
    "    public BachelorStudent(string Name, int Age, decimal Curs, string Specialty)  : base(Name, Age, Curs)\n",
    "    {\n",
    "        this.Specialty = Specialty;\n",
    "    }\n",
    "\n",
    "    public override void Study()\n",
    "    {\n",
    "        Console.WriteLine($\"Студент {Name} учится на специальности {Specialty}\");\n",
    "    }\n",
    "}\n",
    "public class MasterStudent: Student\n",
    "{\n",
    "    public string ScientificAdvisor {get; set;}\n",
    "\n",
    "    public MasterStudent(string Name, int Age, decimal Curs, string ScientificAdvisor) : base(Name, Age, Curs)\n",
    "    {\n",
    "        this.ScientificAdvisor = ScientificAdvisor;\n",
    "    }\n",
    "\n",
    "    public override void TakeExam()\n",
    "    {\n",
    "        Console.WriteLine($\"У студента {Name} научный руководитель {Name}\");\n",
    "    }\n",
    "}\n",
    "public class PhDStudent: Student\n",
    "{\n",
    "    public string DissertationTopic {get; set;}\n",
    "\n",
    "    public PhDStudent(string Name, int Age, decimal Curs, string DissertationTopic) : base(Name, Age, Curs)\n",
    "    {\n",
    "        this.DissertationTopic = DissertationTopic;\n",
    "    }\n",
    "\n",
    "    public override void Study()\n",
    "    {\n",
    "        Console.WriteLine($\"При изучении предмета у студента {Name} тема диссертации {Name}\");\n",
    "    }\n",
    "}"
   ]
  }
 ],
 "metadata": {
  "kernelspec": {
   "display_name": ".NET (C#)",
   "language": "C#",
   "name": ".net-csharp"
  },
  "polyglot_notebook": {
   "kernelInfo": {
    "defaultKernelName": "csharp",
    "items": [
     {
      "aliases": [],
      "languageName": "csharp",
      "name": "csharp"
     }
    ]
   }
  }
 },
 "nbformat": 4,
 "nbformat_minor": 2
}
