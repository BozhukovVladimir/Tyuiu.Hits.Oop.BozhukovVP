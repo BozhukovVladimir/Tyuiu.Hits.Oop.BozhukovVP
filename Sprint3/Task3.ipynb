{
 "cells": [
  {
   "cell_type": "markdown",
   "metadata": {},
   "source": [
    "<h1 style=\"color:DodgerBlue\">Индивидальный проект</h1>"
   ]
  },
  {
   "cell_type": "markdown",
   "metadata": {},
   "source": [
    "<h2 style=\"color:DodgerBlue\">Название проекта:</h2>\n",
    "\n",
    "----\n",
    "\n",
    "### Вариант задания N6\n"
   ]
  },
  {
   "cell_type": "markdown",
   "metadata": {},
   "source": [
    "<h2 style=\"color:DodgerBlue\">Описание проекта:</h2>\n",
    "\n",
    "----\n",
    "\n",
    "Создать базовый класс Movie в C#, который будет представлять информацию о\n",
    "фильмах. На основе этого класса разработать 2-3 производных класса,\n",
    "демонстрирующих принципы наследования и полиморфизма. В каждом из классов\n",
    "должны быть реализованы новые атрибуты и методы, а также переопределены\n",
    "некоторые методы базового класса для демонстрации полиморфизма.\n",
    "\n",
    "#### Дополнительное задание\n",
    "Добавьте к сущестующим классам (базовыму и производным 3-4 атрибута и метода) и реализуйте полиморфизм с перекрытием и прегегрузкой методов, а также generic классы"
   ]
  },
  {
   "cell_type": "markdown",
   "metadata": {},
   "source": [
    "<h2 style=\"color:DodgerBlue\">Реализация:</h2>\n",
    "\n",
    "----"
   ]
  },
  {
   "cell_type": "code",
   "execution_count": null,
   "metadata": {
    "dotnet_interactive": {
     "language": "csharp"
    },
    "polyglot_notebook": {
     "kernelName": "csharp"
    }
   },
   "outputs": [],
   "source": []
  }
 ],
 "metadata": {
  "kernelspec": {
   "display_name": ".NET (C#)",
   "language": "C#",
   "name": ".net-csharp"
  },
  "polyglot_notebook": {
   "kernelInfo": {
    "defaultKernelName": "csharp",
    "items": [
     {
      "aliases": [],
      "languageName": "csharp",
      "name": "csharp"
     }
    ]
   }
  }
 },
 "nbformat": 4,
 "nbformat_minor": 2
}
